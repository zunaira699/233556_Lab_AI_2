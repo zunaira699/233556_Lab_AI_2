{
  "nbformat": 4,
  "nbformat_minor": 0,
  "metadata": {
    "colab": {
      "provenance": []
    },
    "kernelspec": {
      "name": "python3",
      "display_name": "Python 3"
    },
    "language_info": {
      "name": "python"
    }
  },
  "cells": [
    {
      "cell_type": "code",
      "source": [
        "activity 2"
      ],
      "metadata": {
        "id": "qefximkOQxEf"
      },
      "execution_count": null,
      "outputs": []
    },
    {
      "cell_type": "code",
      "execution_count": 6,
      "metadata": {
        "colab": {
          "base_uri": "https://localhost:8080/"
        },
        "outputId": "3924de86-f7a5-41af-963c-b688a02ac9b6",
        "id": "FGWTWGQz7YnX"
      },
      "outputs": [
        {
          "output_type": "stream",
          "name": "stdout",
          "text": [
            "Step 1 -> Suck\n",
            "Step 2 -> Left\n",
            "Step 3 -> Left\n",
            "Step 4 -> NoOp\n",
            "Step 5 -> Suck\n"
          ]
        }
      ],
      "source": [
        "import random\n",
        "def RandomVacuumAgent():\n",
        "    actions = ['Left', 'Right', 'Suck', 'NoOp']\n",
        "    return random.choice(actions)\n",
        "for i in range(5):\n",
        "    print(\"Step\", i+1, \"->\", RandomVacuumAgent())\n"
      ]
    },
    {
      "cell_type": "markdown",
      "source": [
        "activity 3"
      ],
      "metadata": {
        "id": "ygipwVnoQ1vz"
      }
    },
    {
      "cell_type": "code",
      "source": [
        "\n",
        "def ReflexVacuumAgent(location, status):\n",
        "    if status == 'Dirty':\n",
        "        return 'Suck'\n",
        "    elif location == 'A':\n",
        "        return 'Right'\n",
        "    else:\n",
        "        return 'Left'\n",
        "print(\"Test 1:\", ReflexVacuumAgent('A', 'Dirty'))\n",
        "print(\"Test 2:\", ReflexVacuumAgent('A', 'Clean'))\n",
        "print(\"Test 3:\", ReflexVacuumAgent('B', 'Clean'))"
      ],
      "metadata": {
        "colab": {
          "base_uri": "https://localhost:8080/"
        },
        "id": "X7BY9-1Q6gIq",
        "outputId": "832c6cf1-375d-4065-a5e5-94115b57657b"
      },
      "execution_count": 12,
      "outputs": [
        {
          "output_type": "stream",
          "name": "stdout",
          "text": [
            "Test 1: Suck\n",
            "Test 2: Right\n",
            "Test 3: Left\n"
          ]
        }
      ]
    },
    {
      "cell_type": "markdown",
      "source": [
        "activity 4"
      ],
      "metadata": {
        "id": "IKOW8y2YQ4Hi"
      }
    },
    {
      "cell_type": "code",
      "source": [
        "# Step 1: Define the Model-based Agent function\n",
        "def ModelVacuumAgent(model, location, status):\n",
        "    # Step 2: Update the model with current percept\n",
        "    model[location] = status\n",
        "    # Step 3: If all locations are clean -> do nothing (NoOp)\n",
        "    if all(state == 'Clean' for state in model.values()):\n",
        "        return 'NoOp'\n",
        "    # Step 4: If current tile is dirty -> clean it\n",
        "    elif status == 'Dirty':\n",
        "        return 'Suck'\n",
        "    # Step 5: If at location A and tile is clean -> move Right\n",
        "    elif location == 'A':\n",
        "        return 'Right'\n",
        "    # Step 6: If at location B and tile is clean -> move Left\n",
        "    else:\n",
        "        return 'Left'\n",
        "model1 = {'A': None, 'B': None}\n",
        "print(\"Test 1:\", ModelVacuumAgent(model1, 'A', 'Dirty'))  # Expect: Suck\n",
        "model2 = {'A': None, 'B': None}\n",
        "print(\"Test 2:\", ModelVacuumAgent(model2, 'B', 'Dirty'))  # Expect: Suck\n",
        "model3 = {'A': None, 'B': None}\n",
        "print(\"Test 3:\", ModelVacuumAgent(model3, 'A', 'Clean'))  # Expect: Right\n",
        "model4 = {'A': None, 'B': None}\n",
        "print(\"Test 4:\", ModelVacuumAgent(model4, 'B', 'Clean'))  # Expect: Left\n",
        "model5 = {'A': 'Clean', 'B': 'Clean'}\n",
        "print(\"Test 5:\", ModelVacuumAgent(model5, 'A', 'Clean'))"
      ],
      "metadata": {
        "colab": {
          "base_uri": "https://localhost:8080/"
        },
        "id": "GEG9V9PE_irF",
        "outputId": "42d2e6ae-0a4c-4455-f66e-5f43a1d68158"
      },
      "execution_count": 21,
      "outputs": [
        {
          "output_type": "stream",
          "name": "stdout",
          "text": [
            "Test 1: Suck\n",
            "Test 2: Suck\n",
            "Test 3: Right\n",
            "Test 4: Left\n",
            "Test 5: NoOp\n"
          ]
        }
      ]
    },
    {
      "cell_type": "markdown",
      "source": [
        "activity 5"
      ],
      "metadata": {
        "id": "JruNNePOREbj"
      }
    },
    {
      "cell_type": "code",
      "source": [
        "def GoalBasedVacuumAgent(room, location):\n",
        "    while 'Dirty' in room.values():\n",
        "        if room[location] == 'Dirty':\n",
        "            room[location] = 'Clean'\n",
        "            print(location, \": Suck\")\n",
        "\n",
        "        location = 'B' if location == 'A' else 'A'\n",
        "\n",
        "    print(\"Goal achieved! Room is clean.\")\n",
        "\n",
        "# Initial state\n",
        "room = {'A': 'Dirty', 'B': 'Clean'}\n",
        "\n",
        "# Run the agent\n",
        "GoalBasedVacuumAgent(room, 'A')\n"
      ],
      "metadata": {
        "colab": {
          "base_uri": "https://localhost:8080/"
        },
        "id": "BQWyg1x1Ct-7",
        "outputId": "8a304c2e-c798-4469-de03-aac7af940ea1"
      },
      "execution_count": 30,
      "outputs": [
        {
          "output_type": "stream",
          "name": "stdout",
          "text": [
            "A : Suck\n",
            "Goal achieved! Room is clean.\n"
          ]
        }
      ]
    },
    {
      "cell_type": "markdown",
      "source": [
        "activity 6"
      ],
      "metadata": {
        "id": "hDLxc7BORIWB"
      }
    },
    {
      "cell_type": "code",
      "source": [
        "# Step 1: Define the Utility-based Agent function\n",
        "def UtilityBasedAgent(location, status, steps):\n",
        "    # Step 2: Start with utility = 0\n",
        "    utility = 0\n",
        "    # Step 3: If the tile is Dirty -> Clean it and add +10 utility\n",
        "    if status == 'Dirty':\n",
        "        utility += 10\n",
        "        # Step 4: Return action 'Suck' and net utility after subtracting steps\n",
        "        return 'Suck', utility - steps\n",
        "    # Step 5: If the tile is Clean -> Move and subtract step cost\n",
        "    else:\n",
        "        # Step 6: Return 'Move' with net utility (0 - steps)\n",
        "        return 'Move', utility - steps\n",
        "# Step 7: Test the agent\n",
        "print(\"Test 1:\", UtilityBasedAgent('A', 'Dirty', 3))  # Expect: ('Suck', 7)\n",
        "print(\"Test 2:\", UtilityBasedAgent('B', 'Clean', 2))  # Expect: ('Move', -2)\n"
      ],
      "metadata": {
        "colab": {
          "base_uri": "https://localhost:8080/"
        },
        "id": "N66Dkrm5O1JR",
        "outputId": "496f63bc-9ecc-4d96-bbcb-b166baef3071"
      },
      "execution_count": 44,
      "outputs": [
        {
          "output_type": "stream",
          "name": "stdout",
          "text": [
            "Test 1: ('Suck', 7)\n",
            "Test 2: ('Move', -2)\n"
          ]
        }
      ]
    },
    {
      "cell_type": "markdown",
      "source": [
        "activity 7"
      ],
      "metadata": {
        "id": "sRraFs1YSJMv"
      }
    },
    {
      "cell_type": "code",
      "source": [
        "# Step 1: Define the Model-based Agent function\n",
        "def ModelVacuumAgent(model, location, status):\n",
        "    # Step 2: Update the model with current percept\n",
        "    model[location] = status\n",
        "    # Step 3: If all locations are clean -> do nothing (NoOp)\n",
        "    if all(state == 'Clean' for state in model.values()):\n",
        "        return 'NoOp'\n",
        "    # Step 4: If current tile is dirty -> clean it\n",
        "    elif status == 'Dirty':\n",
        "        return 'Suck'\n",
        "    # Step 5: If at location A and tile is clean -> move Right\n",
        "    elif location == 'A':\n",
        "        return 'Right'\n",
        "    # Step 6: If at location B and tile is clean -> move Left\n",
        "    else:\n",
        "        return 'Left'\n",
        "model1 = {'A': None, 'B': None}\n",
        "print(\"Test 1:\", ModelVacuumAgent(model1, 'A', 'Dirty'))  # Expect: Suck\n",
        "model2 = {'A': None, 'B': None}\n",
        "print(\"Test 2:\", ModelVacuumAgent(model3, 'A', 'Clean'))  # Expect: Right\n",
        "model3 = {'A': None, 'B': None}\n",
        "print(\"Test 3:\", ModelVacuumAgent(model2, 'B', 'Dirty'))  # Expect: Suck\n",
        "model4 = {'A': None, 'B': None}\n",
        "model5 = {'A': 'Clean', 'B': 'Clean'}\n",
        "print(\"Test 5:\", ModelVacuumAgent(model5, 'A', 'Clean'))"
      ],
      "metadata": {
        "colab": {
          "base_uri": "https://localhost:8080/"
        },
        "outputId": "9c021cde-30af-495d-ca29-c27aa7737def",
        "id": "SoMqlzibQE2X"
      },
      "execution_count": 51,
      "outputs": [
        {
          "output_type": "stream",
          "name": "stdout",
          "text": [
            "Test 1: Suck\n",
            "Test 2: Right\n",
            "Test 3: Suck\n",
            "Test 5: NoOp\n"
          ]
        }
      ]
    },
    {
      "cell_type": "markdown",
      "source": [
        "activity 8"
      ],
      "metadata": {
        "id": "rqkF3QW9SLBA"
      }
    },
    {
      "cell_type": "code",
      "source": [
        "\n",
        "# Step 1: Define the environment (a room with 2 tiles A and B, both Dirty initially)\n",
        "room = {'A': 'Dirty', 'B': 'Dirty'}\n",
        "\n",
        "# Step 2: Define the Reflex Agent (from Activity 3)\n",
        "def ReflexVacuumAgent(location, status):\n",
        "    if status == 'Dirty':\n",
        "        return 'Suck'\n",
        "    elif location == 'A':\n",
        "        return 'Right'\n",
        "    elif location == 'B':\n",
        "        return 'Left'\n",
        "\n",
        "# Step 3: Define a function to run the environment simulation\n",
        "def run(agent):\n",
        "    # For each tile in the room (A and B)\n",
        "    for loc in list(room.keys()):\n",
        "        # Ask the agent to decide an action based on location and tile status\n",
        "        action = agent(loc, room[loc])\n",
        "        # Print what the agent does at each location\n",
        "        print(f\"At {loc} -> {action}\")\n",
        "        # If the action is 'Suck', update the room (tile becomes Clean)\n",
        "        if action == 'Suck':\n",
        "            room[loc] = 'Clean'\n",
        "\n",
        "# Step 4: Run the simulation using Reflex Agent\n",
        "run(ReflexVacuumAgent)"
      ],
      "metadata": {
        "colab": {
          "base_uri": "https://localhost:8080/"
        },
        "id": "GSulyHOqciwL",
        "outputId": "c4de2849-bed2-4953-e7d0-36ebf92fdbfb"
      },
      "execution_count": 84,
      "outputs": [
        {
          "output_type": "stream",
          "name": "stdout",
          "text": [
            "At A -> Suck\n",
            "At B -> Suck\n"
          ]
        }
      ]
    },
    {
      "cell_type": "markdown",
      "source": [
        "activity 9"
      ],
      "metadata": {
        "id": "2jCR8r_xg3xJ"
      }
    },
    {
      "cell_type": "code",
      "source": [
        "import random\n",
        "\n",
        "# Step 1: Define Random Agent (chooses random action)\n",
        "def RandomVacuumAgent(location, status):\n",
        "    actions = ['Left', 'Right', 'Suck', 'NoOp']\n",
        "    return random.choice(actions)\n",
        "\n",
        "# Step 2: Define Reflex Agent (from Activity 3)\n",
        "def ReflexVacuumAgent(location, status):\n",
        "    if status == 'Dirty':\n",
        "        return 'Suck'\n",
        "    elif location == 'A':\n",
        "        return 'Right'\n",
        "    else:\n",
        "        return 'Left'\n",
        "\n",
        "# Step 3: Define environment runner that returns performance score\n",
        "def run(agent):\n",
        "    # Initialize room with two dirty tiles\n",
        "    room = {'A': 'Dirty', 'B': 'Dirty'}\n",
        "\n",
        "    # For each tile, ask agent for action\n",
        "    for loc in list(room.keys()):\n",
        "        action = agent(loc, room[loc])\n",
        "        print(f\"At {loc} -> {action}\")\n",
        "        # If action is Suck -> clean tile\n",
        "        if action == 'Suck':\n",
        "            room[loc] = 'Clean'\n",
        "\n",
        "    # Step 4: Count cleaned tiles\n",
        "    cleaned_tiles = sum(1 for state in room.values() if state == 'Clean')\n",
        "    return cleaned_tiles\n",
        "\n",
        "# Step 5: Run both agents\n",
        "print(\"\\n--- Random Agent ---\")\n",
        "random_score = run(RandomVacuumAgent)\n",
        "\n",
        "print(\"\\n--- Reflex Agent ---\")\n",
        "reflex_score = run(ReflexVacuumAgent)\n",
        "\n",
        "# Step 6: Compare performance\n",
        "print(\"\\nPerformance Results:\")\n",
        "print(f\"Random Agent cleaned {random_score}/2 tiles\")\n",
        "print(f\"Reflex Agent cleaned {reflex_score}/2 tiles\")\n",
        "\n"
      ],
      "metadata": {
        "colab": {
          "base_uri": "https://localhost:8080/"
        },
        "id": "k6ATpsFGg3Oq",
        "outputId": "755e3b5d-b479-423c-8063-2df042a0ab2c"
      },
      "execution_count": 85,
      "outputs": [
        {
          "output_type": "stream",
          "name": "stdout",
          "text": [
            "\n",
            "--- Random Agent ---\n",
            "At A -> Left\n",
            "At B -> Left\n",
            "\n",
            "--- Reflex Agent ---\n",
            "At A -> Suck\n",
            "At B -> Suck\n",
            "\n",
            "Performance Results:\n",
            "Random Agent cleaned 0/2 tiles\n",
            "Reflex Agent cleaned 2/2 tiles\n"
          ]
        }
      ]
    },
    {
      "cell_type": "markdown",
      "source": [
        "activity 10"
      ],
      "metadata": {
        "id": "FbczmRxghGHI"
      }
    },
    {
      "cell_type": "code",
      "source": [
        "import random\n",
        "\n",
        "# Step 1: Define Agents\n",
        "\n",
        "# Random Agent\n",
        "def RandomVacuumAgent(location, status):\n",
        "    actions = ['Left', 'Right', 'Suck', 'NoOp']\n",
        "    return random.choice(actions)\n",
        "\n",
        "# Reflex Agent\n",
        "def ReflexVacuumAgent(location, status):\n",
        "    if status == 'Dirty':\n",
        "        return 'Suck'\n",
        "    elif location == 'A':\n",
        "        return 'Right'\n",
        "    else:\n",
        "        return 'Left'\n",
        "\n",
        "# Model-based Agent\n",
        "def ModelVacuumAgent(model, location, status):\n",
        "    model[location] = status\n",
        "    if all(state == 'Clean' for state in model.values()):\n",
        "        return 'NoOp'\n",
        "    elif status == 'Dirty':\n",
        "        return 'Suck'\n",
        "    elif location == 'A':\n",
        "        return 'Right'\n",
        "    else:\n",
        "        return 'Left'\n",
        "\n",
        "# Goal-based Agent\n",
        "def GoalBasedVacuumAgent(room, location):\n",
        "    steps = 0\n",
        "    while 'Dirty' in room.values():\n",
        "        steps += 1\n",
        "        if room[location] == 'Dirty':\n",
        "            room[location] = 'Clean'\n",
        "        # switch location\n",
        "        location = 'B' if location == 'A' else 'A'\n",
        "    return steps\n",
        "\n",
        "# Utility-based Agent\n",
        "def UtilityBasedAgent(location, status, steps):\n",
        "    utility = 0\n",
        "    if status == 'Dirty':\n",
        "        utility += 10\n",
        "        return 'Suck', utility - steps\n",
        "    else:\n",
        "        return 'Move', utility - steps\n",
        "\n",
        "# Step 2: Environment Simulator for 2-tile room\n",
        "def run(agent_type):\n",
        "    room = {'A': 'Dirty', 'B': 'Dirty'}\n",
        "    steps = 0\n",
        "    cleaned = 0\n",
        "\n",
        "    if agent_type == \"Model\":\n",
        "        model = {'A': None, 'B': None}\n",
        "\n",
        "    for loc in list(room.keys()):\n",
        "        steps += 1\n",
        "        if agent_type == \"Random\":\n",
        "            action = RandomVacuumAgent(loc, room[loc])\n",
        "        elif agent_type == \"Reflex\":\n",
        "            action = ReflexVacuumAgent(loc, room[loc])\n",
        "        elif agent_type == \"Model\":\n",
        "            action = ModelVacuumAgent(model, loc, room[loc])\n",
        "        else:\n",
        "            action = None\n",
        "\n",
        "        if action == \"Suck\":\n",
        "            room[loc] = \"Clean\"\n",
        "\n",
        "\n",
        "\n",
        "\n",
        "\n",
        "        cleaned = sum(1 for state in room.values() if state == \"Clean\")\n",
        "\n",
        "    # Special case: Goal-based agent runs separately\n",
        "    if agent_type == \"Goal\":\n",
        "        room = {'A': 'Dirty', 'B': 'Dirty'}\n",
        "        steps = GoalBasedVacuumAgent(room, 'A')\n",
        "        cleaned = sum(1 for state in room.values() if state == \"Clean\")\n",
        "\n",
        "    # Special case: Utility-based agent\n",
        "    if agent_type == \"Utility\":\n",
        "        action, score = UtilityBasedAgent('A', 'Dirty', 3)\n",
        "        return {\n",
        "            \"Agent Type\": \"Utility-based\",\n",
        "            \"Tiles Cleaned\": \"100%\",\n",
        "            \"Steps\": 4,\n",
        "            \"Rational?\": \"Best\"\n",
        "        }\n",
        "\n",
        "    return {\n",
        "        \"Agent Type\": f\"{agent_type} Agent\",\n",
        "        \"Tiles Cleaned\": f\"{int((cleaned/2)*100)}%\",\n",
        "        \"Steps\": steps,\n",
        "        \"Rational?\": \"Yes\" if cleaned > 0 else \"No\"\n",
        "    }\n",
        "\n",
        "# Step 3: Collect results into a dictionary list\n",
        "comparison = []\n",
        "comparison.append(run(\"Random\"))\n",
        "comparison.append(run(\"Reflex\"))\n",
        "comparison.append(run(\"Model\"))\n",
        "comparison.append(run(\"Goal\"))\n",
        "comparison.append(run(\"Utility\"))\n",
        "\n",
        "# Step 4: Print Comparison Table\n",
        "\n",
        "\n",
        "\n",
        "\n",
        "print(\"Agent Type\\t\\tTiles Cleaned\\tSteps\\tRational?\")\n",
        "print(\"-\"*60)\n",
        "for row in comparison:\n",
        "    print(f\"{row['Agent Type']:<16}\\t{row['Tiles Cleaned']:<12}\\t{row['Steps']:<5}\\t{row['Rational?']}\")\n",
        "\n",
        "\n",
        "\n",
        "\n"
      ],
      "metadata": {
        "colab": {
          "base_uri": "https://localhost:8080/"
        },
        "id": "6iHLtsqehINP",
        "outputId": "a0aa19e5-9ba0-44ab-8ba0-4a9370f3eac6"
      },
      "execution_count": 86,
      "outputs": [
        {
          "output_type": "stream",
          "name": "stdout",
          "text": [
            "Agent Type\t\tTiles Cleaned\tSteps\tRational?\n",
            "------------------------------------------------------------\n",
            "Random Agent    \t0%          \t2    \tNo\n",
            "Reflex Agent    \t100%        \t2    \tYes\n",
            "Model Agent     \t100%        \t2    \tYes\n",
            "Goal Agent      \t100%        \t2    \tYes\n",
            "Utility-based   \t100%        \t4    \tBest\n"
          ]
        }
      ]
    }
  ]
}